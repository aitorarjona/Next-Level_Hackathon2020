{
 "cells": [
  {
   "metadata": {},
   "cell_type": "code",
   "source": [
    "# @hidden_cell\n",
    "# The project token is an authorization token that is used to access project resources like data sources, connections, and used by platform APIs.\n",
    "from project_lib import Project\n",
    "project = Project(project_id='', project_access_token='')\n",
    "pc = project.project_context\n"
   ],
   "execution_count": 1,
   "outputs": []
  },
  {
   "metadata": {},
   "cell_type": "code",
   "source": [
    "# @hidden_cell\n",
    "import ibm_boto3\n",
    "import io\n",
    "import pandas as pd\n",
    "\n",
    "from ibm_botocore.client import Config\n",
    "\n",
    "storage_metadata = project.get_storage_metadata()\n",
    "\n",
    "credentials = {\n",
    "    'endpoint': storage_metadata['properties']['endpoint_url'],\n",
    "    'service_id': storage_metadata['properties']['credentials']['editor']['service_id'],\n",
    "    'iam_service_endpoint': 'https://iam.bluemix.net/oidc/token',\n",
    "    'api_key': storage_metadata['properties']['credentials']['editor']['api_key']\n",
    "}\n",
    "\n",
    "cos = ibm_boto3.resource(\"s3\",\n",
    "    ibm_api_key_id='',\n",
    "    ibm_service_instance_id='',\n",
    "    config=Config(signature_version=\"oauth\"),\n",
    "    endpoint_url=credentials['endpoint']\n",
    ")\n",
    "\n",
    "file = cos.Object(storage_metadata['properties']['bucket_name'], 'covid.csv').get()\n",
    "file = file[\"Body\"].read().decode()\n",
    "\n",
    "buffer = io.StringIO(file)\n",
    "\n",
    "features = pd.read_csv(filepath_or_buffer = buffer, sep=',')\n",
    "\n",
    "features.drop(['entry_date', 'date_symptoms', 'id'], axis=1, inplace=True)\n",
    "\n",
    "def normalize_deaths(x):\n",
    "    if x == '9999-99-99':\n",
    "        return 99\n",
    "    else:\n",
    "        return 1\n",
    "    \n",
    "features['date_died'] = features['date_died'].apply(normalize_deaths)\n",
    "features.describe()"
   ],
   "execution_count": 2,
   "outputs": [
    {
     "output_type": "execute_result",
     "execution_count": 2,
     "data": {
      "text/plain": "                 sex   patient_type      date_died        intubed  \\\ncount  566602.000000  566602.000000  566602.000000  566602.000000   \nmean        1.506726       1.215165      92.742966      76.562952   \nstd         0.499955       0.410937      23.959129      39.058676   \nmin         1.000000       1.000000       1.000000       1.000000   \n25%         1.000000       1.000000      99.000000      97.000000   \n50%         2.000000       1.000000      99.000000      97.000000   \n75%         2.000000       1.000000      99.000000      97.000000   \nmax         2.000000       2.000000      99.000000      99.000000   \n\n           pneumonia            age      pregnancy       diabetes  \\\ncount  566602.000000  566602.000000  566602.000000  566602.000000   \nmean        1.846262      42.622483      50.400692       2.210633   \nstd         0.560939      16.659973      47.501579       5.683523   \nmin         1.000000       0.000000       1.000000       1.000000   \n25%         2.000000      31.000000       2.000000       2.000000   \n50%         2.000000      41.000000      97.000000       2.000000   \n75%         2.000000      53.000000      97.000000       2.000000   \nmax        99.000000     120.000000      98.000000      98.000000   \n\n                copd         asthma        inmsupr   hypertension  \\\ncount  566602.000000  566602.000000  566602.000000  566602.000000   \nmean        2.280221       2.265029       2.319628       2.145774   \nstd         5.327832       5.334658       5.667381       5.459866   \nmin         1.000000       1.000000       1.000000       1.000000   \n25%         2.000000       2.000000       2.000000       2.000000   \n50%         2.000000       2.000000       2.000000       2.000000   \n75%         2.000000       2.000000       2.000000       2.000000   \nmax        98.000000      98.000000      98.000000      98.000000   \n\n       other_disease  cardiovascular        obesity  renal_chronic  \\\ncount  566602.000000   566602.000000  566602.000000  566602.000000   \nmean        2.410030        2.286157       2.138905       2.283765   \nstd         6.489959        5.438405       5.395578       5.393232   \nmin         1.000000        1.000000       1.000000       1.000000   \n25%         2.000000        2.000000       2.000000       2.000000   \n50%         2.000000        2.000000       2.000000       2.000000   \n75%         2.000000        2.000000       2.000000       2.000000   \nmax        98.000000       98.000000      98.000000      98.000000   \n\n             tobacco  contact_other_covid      covid_res            icu  \ncount  566602.000000        566602.000000  566602.000000  566602.000000  \nmean        2.238360            31.573034       1.728651      76.562864  \nstd         5.571901            45.082123       0.658710      39.059060  \nmin         1.000000             1.000000       1.000000       1.000000  \n25%         2.000000             1.000000       1.000000      97.000000  \n50%         2.000000             2.000000       2.000000      97.000000  \n75%         2.000000            99.000000       2.000000      97.000000  \nmax        98.000000            99.000000       3.000000      99.000000  ",
      "text/html": "<div>\n<style scoped>\n    .dataframe tbody tr th:only-of-type {\n        vertical-align: middle;\n    }\n\n    .dataframe tbody tr th {\n        vertical-align: top;\n    }\n\n    .dataframe thead th {\n        text-align: right;\n    }\n</style>\n<table border=\"1\" class=\"dataframe\">\n  <thead>\n    <tr style=\"text-align: right;\">\n      <th></th>\n      <th>sex</th>\n      <th>patient_type</th>\n      <th>date_died</th>\n      <th>intubed</th>\n      <th>pneumonia</th>\n      <th>age</th>\n      <th>pregnancy</th>\n      <th>diabetes</th>\n      <th>copd</th>\n      <th>asthma</th>\n      <th>inmsupr</th>\n      <th>hypertension</th>\n      <th>other_disease</th>\n      <th>cardiovascular</th>\n      <th>obesity</th>\n      <th>renal_chronic</th>\n      <th>tobacco</th>\n      <th>contact_other_covid</th>\n      <th>covid_res</th>\n      <th>icu</th>\n    </tr>\n  </thead>\n  <tbody>\n    <tr>\n      <th>count</th>\n      <td>566602.000000</td>\n      <td>566602.000000</td>\n      <td>566602.000000</td>\n      <td>566602.000000</td>\n      <td>566602.000000</td>\n      <td>566602.000000</td>\n      <td>566602.000000</td>\n      <td>566602.000000</td>\n      <td>566602.000000</td>\n      <td>566602.000000</td>\n      <td>566602.000000</td>\n      <td>566602.000000</td>\n      <td>566602.000000</td>\n      <td>566602.000000</td>\n      <td>566602.000000</td>\n      <td>566602.000000</td>\n      <td>566602.000000</td>\n      <td>566602.000000</td>\n      <td>566602.000000</td>\n      <td>566602.000000</td>\n    </tr>\n    <tr>\n      <th>mean</th>\n      <td>1.506726</td>\n      <td>1.215165</td>\n      <td>92.742966</td>\n      <td>76.562952</td>\n      <td>1.846262</td>\n      <td>42.622483</td>\n      <td>50.400692</td>\n      <td>2.210633</td>\n      <td>2.280221</td>\n      <td>2.265029</td>\n      <td>2.319628</td>\n      <td>2.145774</td>\n      <td>2.410030</td>\n      <td>2.286157</td>\n      <td>2.138905</td>\n      <td>2.283765</td>\n      <td>2.238360</td>\n      <td>31.573034</td>\n      <td>1.728651</td>\n      <td>76.562864</td>\n    </tr>\n    <tr>\n      <th>std</th>\n      <td>0.499955</td>\n      <td>0.410937</td>\n      <td>23.959129</td>\n      <td>39.058676</td>\n      <td>0.560939</td>\n      <td>16.659973</td>\n      <td>47.501579</td>\n      <td>5.683523</td>\n      <td>5.327832</td>\n      <td>5.334658</td>\n      <td>5.667381</td>\n      <td>5.459866</td>\n      <td>6.489959</td>\n      <td>5.438405</td>\n      <td>5.395578</td>\n      <td>5.393232</td>\n      <td>5.571901</td>\n      <td>45.082123</td>\n      <td>0.658710</td>\n      <td>39.059060</td>\n    </tr>\n    <tr>\n      <th>min</th>\n      <td>1.000000</td>\n      <td>1.000000</td>\n      <td>1.000000</td>\n      <td>1.000000</td>\n      <td>1.000000</td>\n      <td>0.000000</td>\n      <td>1.000000</td>\n      <td>1.000000</td>\n      <td>1.000000</td>\n      <td>1.000000</td>\n      <td>1.000000</td>\n      <td>1.000000</td>\n      <td>1.000000</td>\n      <td>1.000000</td>\n      <td>1.000000</td>\n      <td>1.000000</td>\n      <td>1.000000</td>\n      <td>1.000000</td>\n      <td>1.000000</td>\n      <td>1.000000</td>\n    </tr>\n    <tr>\n      <th>25%</th>\n      <td>1.000000</td>\n      <td>1.000000</td>\n      <td>99.000000</td>\n      <td>97.000000</td>\n      <td>2.000000</td>\n      <td>31.000000</td>\n      <td>2.000000</td>\n      <td>2.000000</td>\n      <td>2.000000</td>\n      <td>2.000000</td>\n      <td>2.000000</td>\n      <td>2.000000</td>\n      <td>2.000000</td>\n      <td>2.000000</td>\n      <td>2.000000</td>\n      <td>2.000000</td>\n      <td>2.000000</td>\n      <td>1.000000</td>\n      <td>1.000000</td>\n      <td>97.000000</td>\n    </tr>\n    <tr>\n      <th>50%</th>\n      <td>2.000000</td>\n      <td>1.000000</td>\n      <td>99.000000</td>\n      <td>97.000000</td>\n      <td>2.000000</td>\n      <td>41.000000</td>\n      <td>97.000000</td>\n      <td>2.000000</td>\n      <td>2.000000</td>\n      <td>2.000000</td>\n      <td>2.000000</td>\n      <td>2.000000</td>\n      <td>2.000000</td>\n      <td>2.000000</td>\n      <td>2.000000</td>\n      <td>2.000000</td>\n      <td>2.000000</td>\n      <td>2.000000</td>\n      <td>2.000000</td>\n      <td>97.000000</td>\n    </tr>\n    <tr>\n      <th>75%</th>\n      <td>2.000000</td>\n      <td>1.000000</td>\n      <td>99.000000</td>\n      <td>97.000000</td>\n      <td>2.000000</td>\n      <td>53.000000</td>\n      <td>97.000000</td>\n      <td>2.000000</td>\n      <td>2.000000</td>\n      <td>2.000000</td>\n      <td>2.000000</td>\n      <td>2.000000</td>\n      <td>2.000000</td>\n      <td>2.000000</td>\n      <td>2.000000</td>\n      <td>2.000000</td>\n      <td>2.000000</td>\n      <td>99.000000</td>\n      <td>2.000000</td>\n      <td>97.000000</td>\n    </tr>\n    <tr>\n      <th>max</th>\n      <td>2.000000</td>\n      <td>2.000000</td>\n      <td>99.000000</td>\n      <td>99.000000</td>\n      <td>99.000000</td>\n      <td>120.000000</td>\n      <td>98.000000</td>\n      <td>98.000000</td>\n      <td>98.000000</td>\n      <td>98.000000</td>\n      <td>98.000000</td>\n      <td>98.000000</td>\n      <td>98.000000</td>\n      <td>98.000000</td>\n      <td>98.000000</td>\n      <td>98.000000</td>\n      <td>98.000000</td>\n      <td>99.000000</td>\n      <td>3.000000</td>\n      <td>99.000000</td>\n    </tr>\n  </tbody>\n</table>\n</div>"
     },
     "metadata": {}
    }
   ]
  },
  {
   "metadata": {},
   "cell_type": "code",
   "source": "# Use numpy to convert to arrays\nimport numpy as np\n\nlabels_icu = np.array(features['icu'])\nfeatures_icu = features.drop('icu', axis = 1)\n\nfeatures_icu = np.array(features_icu)\n\nlabels_death = np.array(features['date_died'])\nfeatures_death = features.drop('date_died', axis = 1)\n\nfeatures_death = np.array(features_death)",
   "execution_count": 3,
   "outputs": []
  },
  {
   "metadata": {},
   "cell_type": "code",
   "source": "# Import the model we are using\nfrom sklearn.ensemble import RandomForestRegressor\n\n# Instantiate model with 20 decision trees\nrf_icu = RandomForestRegressor(n_estimators = 20, random_state = 8)\n\n# Train the model on training data\nrf_icu.fit(features_icu, labels_icu)\n\n# Instantiate model with 20 decision trees\nrf_deaths = RandomForestRegressor(n_estimators = 20, random_state = 8)\n\n# Train the model on training data\nrf_deaths.fit(features_death, labels_death)",
   "execution_count": 4,
   "outputs": [
    {
     "output_type": "execute_result",
     "execution_count": 4,
     "data": {
      "text/plain": "RandomForestRegressor(n_estimators=20, random_state=8)"
     },
     "metadata": {}
    }
   ]
  },
  {
   "metadata": {},
   "cell_type": "code",
   "source": "import pickle\nimport zlib\n\nd = { 'model_death': rf_deaths, 'model_icu': rf_icu }\nobj = pickle.dumps(d)\nobj = zlib.compress(obj)\n\n\ncos.Object(storage_metadata['properties']['bucket_name'], 'models.zip').put(Body=obj)",
   "execution_count": 5,
   "outputs": [
    {
     "output_type": "error",
     "ename": "TypeError",
     "evalue": "a bytes-like object is required, not 'dict'",
     "traceback": [
      "\u001B[0;31m---------------------------------------------------------------------------\u001B[0m",
      "\u001B[0;31mTypeError\u001B[0m                                 Traceback (most recent call last)",
      "\u001B[0;32m<ipython-input-5-ad6f22697346>\u001B[0m in \u001B[0;36m<module>\u001B[0;34m\u001B[0m\n\u001B[1;32m      3\u001B[0m \u001B[0;34m\u001B[0m\u001B[0m\n\u001B[1;32m      4\u001B[0m \u001B[0md\u001B[0m \u001B[0;34m=\u001B[0m \u001B[0;34m{\u001B[0m \u001B[0;34m'model_death'\u001B[0m\u001B[0;34m:\u001B[0m \u001B[0mrf_deaths\u001B[0m\u001B[0;34m,\u001B[0m \u001B[0;34m'model_icu'\u001B[0m\u001B[0;34m:\u001B[0m \u001B[0mrf_icu\u001B[0m \u001B[0;34m}\u001B[0m\u001B[0;34m\u001B[0m\u001B[0;34m\u001B[0m\u001B[0m\n\u001B[0;32m----> 5\u001B[0;31m \u001B[0md\u001B[0m \u001B[0;34m=\u001B[0m \u001B[0mzlib\u001B[0m\u001B[0;34m.\u001B[0m\u001B[0mcompress\u001B[0m\u001B[0;34m(\u001B[0m\u001B[0md\u001B[0m\u001B[0;34m)\u001B[0m\u001B[0;34m\u001B[0m\u001B[0;34m\u001B[0m\u001B[0m\n\u001B[0m\u001B[1;32m      6\u001B[0m \u001B[0mobj\u001B[0m \u001B[0;34m=\u001B[0m \u001B[0mpickle\u001B[0m\u001B[0;34m.\u001B[0m\u001B[0mdumps\u001B[0m\u001B[0;34m(\u001B[0m\u001B[0md\u001B[0m\u001B[0;34m)\u001B[0m\u001B[0;34m\u001B[0m\u001B[0;34m\u001B[0m\u001B[0m\n\u001B[1;32m      7\u001B[0m \u001B[0;34m\u001B[0m\u001B[0m\n",
      "\u001B[0;31mTypeError\u001B[0m: a bytes-like object is required, not 'dict'"
     ]
    }
   ]
  },
  {
   "metadata": {},
   "cell_type": "code",
   "source": "",
   "execution_count": null,
   "outputs": []
  }
 ],
 "metadata": {
  "kernelspec": {
   "name": "python3",
   "display_name": "Python 3.7",
   "language": "python"
  },
  "language_info": {
   "name": "python",
   "version": "3.7.9",
   "mimetype": "text/x-python",
   "codemirror_mode": {
    "name": "ipython",
    "version": 3
   },
   "pygments_lexer": "ipython3",
   "nbconvert_exporter": "python",
   "file_extension": ".py"
  }
 },
 "nbformat": 4,
 "nbformat_minor": 1
}